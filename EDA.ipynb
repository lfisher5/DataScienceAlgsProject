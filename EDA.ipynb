{
 "cells": [
  {
   "cell_type": "markdown",
   "metadata": {},
   "source": [
    "# Galaxy Morphology EDA & Classification \n",
    "\n",
    "## The data for our classifications and EDA were acquired from the Sloan Digital Sky Server using SQL Queries \n",
    "\n",
    "### The URL for the dataset was acquired can be found [here](https://skyserver.sdss.org/dr12/en/help/browser/browser.aspx#&&history=description+zooSpec+U)."
   ]
  },
  {
   "cell_type": "code",
   "execution_count": 5,
   "metadata": {},
   "outputs": [
    {
     "name": "stdout",
     "output_type": "stream",
     "text": [
      "attribute                   min             max             mid             avg        median\n",
      "--------------  ---------------  --------------  --------------  --------------  ------------\n",
      "p_el                0               1               0.5               0.554168      0.603\n",
      "p_cw                0               1               0.5               0.0685276     0.014\n",
      "p_acw               0               1               0.5               0.0754504     0.019\n",
      "p_edge              0               1               0.5               0.200613      0.129\n",
      "p_dk                0               1               0.5               0.0705617     0.053\n",
      "p_mg                0               0.957           0.4785            0.0306083     0\n",
      "ra                  0.00647288    359.853         179.93            202.573       189.058\n",
      "dec                -3.74796        66.3173         31.2847            4.72291      -0.288937\n",
      "z                   0.0100696       0.693921        0.351995          0.106037      0.0977301\n",
      "zWarning            0             128              64                 0.0444        0\n",
      "waveMin          3785.3          4713.03         4249.16           3809.91       3808.03\n",
      "plateSN2            9.43218        42.013          25.7226           18.4194       17.3877\n",
      "h_delta_flux     -280.404           2.95692e+08     1.47846e+08   17113.1           3.71728\n",
      "h_gamma_flux      -84.9019          4.40835e+08     2.20417e+08   22698.6           6.76192\n",
      "oiii_4363_flux     -1.16487e+08  2573.24           -5.8242e+07    -8732.46         -0.334903\n",
      "h_beta_flux       -82.7944          1.18484e+09     5.92417e+08   61824.3          13.4498\n",
      "oiii_4959_flux   -574.594           1.12873e+08     5.64363e+07   10862.5           3.5413\n",
      "oiii_5007_flux  -1683.45            6.53642e+08     3.2682e+08    49621.5          10.2055\n",
      "hei_5876_flux      -4.99492e+07     3.86117e+07    -5.66877e+06    -568.552         1.11526\n",
      "oi_6300_flux       -4.90568e+07     1.392e+08       4.50714e+07   14746.9           3.52464\n",
      "h_alpha_flux       -9.83283e+08     4.92135e+09     1.96903e+09  221130            49.4059\n",
      "nii_6548_flux      -7.80754e+06     7.04954e+08     3.48573e+08   57900             9.22547\n",
      "sii_6717_flux      -3.58093e+06     9.42266e+09     4.70954e+09  529948            12.933\n",
      "sii_6731_flux      -2.30081e+07     5.45531e+08     2.61261e+08   33450.7           9.26257\n"
     ]
    }
   ],
   "source": [
    "from utils.mypytable import MyPyTable \n",
    "import utils.myutils as utils\n",
    "import utils.plot_utils as plot_utils\n",
    "import importlib\n",
    "importlib.reload(utils)\n",
    "importlib.reload(plot_utils)\n",
    "table = MyPyTable()\n",
    "file_name = 'Skyserver_SQL4_21_2022 12_41_18 AM.csv'\n",
    "table.load_from_file('input_folder/' + file_name)\n",
    "\n",
    "summary_table = table.compute_summary_statistics(['p_el', 'p_cw', 'p_acw', 'p_edge', 'p_dk', 'p_mg', 'ra', 'dec', 'z', 'zWarning', 'waveMin', 'plateSN2', 'h_delta_flux', 'h_gamma_flux', 'oiii_4363_flux', 'h_beta_flux', 'oiii_4959_flux', 'oiii_5007_flux', 'hei_5876_flux', 'oi_6300_flux', 'h_alpha_flux', 'nii_6548_flux', 'sii_6717_flux', 'sii_6731_flux'])\n",
    "summary_table.pretty_print()"
   ]
  },
  {
   "cell_type": "code",
   "execution_count": 6,
   "metadata": {},
   "outputs": [],
   "source": [
    "fraction_cols = ['p_el', 'p_cw', 'p_acw', 'p_edge', 'p_dk', 'p_mg']\n",
    "utils.discretize_to_single_col(table.data, table.column_names, fraction_cols)\n",
    "table.column_names.append('morph')\n",
    "table.drop_cols(fraction_cols)"
   ]
  },
  {
   "cell_type": "markdown",
   "metadata": {},
   "source": [
    "## Class Distribution\n",
    "\n",
    "#### We are hoping to train our model on the class label for morphology classification which is a system used by astronomers to divide galaxies into groups based on their visual appearance.\n",
    "\n",
    "#### In order to ensure that we can fit a good model to the data, having a distribution of class labels that are not too skewed so as to be overly abundant or lacking in some versus others "
   ]
  },
  {
   "cell_type": "code",
   "execution_count": 7,
   "metadata": {},
   "outputs": [
    {
     "data": {
      "image/png": "[encoded data removed]",
      "text/plain": [
       "<Figure size 1296x360 with 1 Axes>"
      ]
     },
     "metadata": {
      "needs_background": "light"
     },
     "output_type": "display_data"
    }
   ],
   "source": [
    "col = 'morph'\n",
    "table.data = [row for row in table.data if len(row) == len(table.column_names)]\n",
    "vals,counts = utils.get_categorical_frequencies(table.data, table.column_names, col)\n",
    "plot_utils.categorical_frequency_bar_plot(col, vals, counts)"
   ]
  },
  {
   "cell_type": "markdown",
   "metadata": {},
   "source": [
    "#### From our initial EDA we see that our class distribution ......."
   ]
  },
  {
   "cell_type": "markdown",
   "metadata": {},
   "source": [
    "## A Closer Look: Features of Interest\n",
    "\n",
    "#### Like the distributions of class lables we also used the opportunity for EDA to look into whether or not there were any features within the dataset that have high or low correlations with other attributes/class labels so as to gain intuition for potential pruning strategies or attributes to eliminate to reduce overfitting"
   ]
  },
  {
   "cell_type": "code",
   "execution_count": null,
   "metadata": {},
   "outputs": [],
   "source": []
  },
  {
   "cell_type": "markdown",
   "metadata": {},
   "source": [
    "###"
   ]
  },
  {
   "cell_type": "code",
   "execution_count": null,
   "metadata": {},
   "outputs": [],
   "source": []
  },
  {
   "cell_type": "markdown",
   "metadata": {},
   "source": [
    "### Preliminary Classification"
   ]
  },
  {
   "cell_type": "code",
   "execution_count": 8,
   "metadata": {},
   "outputs": [
    {
     "ename": "ValueError",
     "evalue": "ValueError exception thrown",
     "output_type": "error",
     "traceback": [
      "\u001b[0;31m---------------------------------------------------------------------------\u001b[0m",
      "\u001b[0;31mValueError\u001b[0m                                Traceback (most recent call last)",
      "\u001b[0;31mValueError\u001b[0m: ",
      "\nThe above exception was the direct cause of the following exception:\n",
      "\u001b[0;31mValueError\u001b[0m                                Traceback (most recent call last)",
      "\u001b[0;32m/tmp/ipykernel_604/1415889814.py\u001b[0m in \u001b[0;36m<module>\u001b[0;34m\u001b[0m\n\u001b[1;32m      4\u001b[0m \u001b[0mcols_to_remove\u001b[0m \u001b[0;34m=\u001b[0m \u001b[0;34m[\u001b[0m\u001b[0;36m0\u001b[0m\u001b[0;34m,\u001b[0m\u001b[0;36m1\u001b[0m\u001b[0;34m,\u001b[0m\u001b[0;36m2\u001b[0m\u001b[0;34m,\u001b[0m \u001b[0mlen\u001b[0m\u001b[0;34m(\u001b[0m\u001b[0mtable\u001b[0m\u001b[0;34m.\u001b[0m\u001b[0mdata\u001b[0m\u001b[0;34m[\u001b[0m\u001b[0;36m0\u001b[0m\u001b[0;34m]\u001b[0m\u001b[0;34m)\u001b[0m \u001b[0;34m-\u001b[0m \u001b[0;36m1\u001b[0m\u001b[0;34m]\u001b[0m\u001b[0;34m\u001b[0m\u001b[0;34m\u001b[0m\u001b[0m\n\u001b[1;32m      5\u001b[0m \u001b[0mdata\u001b[0m \u001b[0;34m=\u001b[0m \u001b[0;34m[\u001b[0m\u001b[0;34m[\u001b[0m\u001b[0mrow\u001b[0m\u001b[0;34m[\u001b[0m\u001b[0mi\u001b[0m\u001b[0;34m]\u001b[0m \u001b[0;32mfor\u001b[0m \u001b[0mi\u001b[0m \u001b[0;32min\u001b[0m \u001b[0mrange\u001b[0m\u001b[0;34m(\u001b[0m\u001b[0mlen\u001b[0m\u001b[0;34m(\u001b[0m\u001b[0mrow\u001b[0m\u001b[0;34m)\u001b[0m\u001b[0;34m)\u001b[0m \u001b[0;32mif\u001b[0m \u001b[0mi\u001b[0m \u001b[0;32mnot\u001b[0m \u001b[0;32min\u001b[0m \u001b[0mcols_to_remove\u001b[0m\u001b[0;34m]\u001b[0m \u001b[0;32mfor\u001b[0m \u001b[0mrow\u001b[0m \u001b[0;32min\u001b[0m \u001b[0mtable\u001b[0m\u001b[0;34m.\u001b[0m\u001b[0mdata\u001b[0m\u001b[0;34m]\u001b[0m\u001b[0;34m\u001b[0m\u001b[0;34m\u001b[0m\u001b[0m\n\u001b[0;32m----> 6\u001b[0;31m \u001b[0mtarget_vals\u001b[0m \u001b[0;34m=\u001b[0m \u001b[0mtable\u001b[0m\u001b[0;34m.\u001b[0m\u001b[0mget_column\u001b[0m\u001b[0;34m(\u001b[0m\u001b[0;34m'TARGET'\u001b[0m\u001b[0;34m)\u001b[0m\u001b[0;34m\u001b[0m\u001b[0;34m\u001b[0m\u001b[0m\n\u001b[0m\u001b[1;32m      7\u001b[0m \u001b[0;34m\u001b[0m\u001b[0m\n",
      "\u001b[0;32m/home/Documents/Spring 2022/Data Science/DataScienceAlgsProject/utils/mypytable.py\u001b[0m in \u001b[0;36mget_column\u001b[0;34m(self, col_identifier, include_missing_values)\u001b[0m\n\u001b[1;32m     73\u001b[0m             \u001b[0mcol_index\u001b[0m \u001b[0;34m=\u001b[0m \u001b[0mself\u001b[0m\u001b[0;34m.\u001b[0m\u001b[0mcolumn_names\u001b[0m\u001b[0;34m.\u001b[0m\u001b[0mindex\u001b[0m\u001b[0;34m(\u001b[0m\u001b[0mcol_identifier\u001b[0m\u001b[0;34m)\u001b[0m\u001b[0;34m\u001b[0m\u001b[0;34m\u001b[0m\u001b[0m\n\u001b[1;32m     74\u001b[0m         \u001b[0;32mexcept\u001b[0m \u001b[0mValueError\u001b[0m\u001b[0;34m:\u001b[0m\u001b[0;34m\u001b[0m\u001b[0;34m\u001b[0m\u001b[0m\n\u001b[0;32m---> 75\u001b[0;31m             \u001b[0;32mraise\u001b[0m \u001b[0mValueError\u001b[0m\u001b[0;34m(\u001b[0m\u001b[0;34m\"ValueError exception thrown\"\u001b[0m\u001b[0;34m)\u001b[0m \u001b[0;32mfrom\u001b[0m \u001b[0mValueError\u001b[0m\u001b[0;34m\u001b[0m\u001b[0;34m\u001b[0m\u001b[0m\n\u001b[0m\u001b[1;32m     76\u001b[0m \u001b[0;34m\u001b[0m\u001b[0m\n\u001b[1;32m     77\u001b[0m         \u001b[0mcol\u001b[0m \u001b[0;34m=\u001b[0m \u001b[0;34m[\u001b[0m\u001b[0;34m]\u001b[0m\u001b[0;34m\u001b[0m\u001b[0;34m\u001b[0m\u001b[0m\n",
      "\u001b[0;31mValueError\u001b[0m: ValueError exception thrown"
     ]
    }
   ],
   "source": [
    "cols_to_drop = []\n",
    "target_col = 0 # TODO\n",
    "\n",
    "cols_to_remove = [0,1,2, len(table.data[0]) - 1]\n",
    "data = [[row[i] for i in range(len(row)) if i not in cols_to_remove] for row in table.data]\n",
    "target_vals = table.get_column('TARGET')\n",
    "\n"
   ]
  },
  {
   "cell_type": "markdown",
   "metadata": {},
   "source": [
    "#### Information about the dataset itself, e.g., the attributes and attribute types, the number of instances, and the attribute being used as the label.\n",
    "#### Relevant summary statistics about the dataset.\n",
    "#### Data visualizations highlighting important/interesting aspects of your dataset. Visualizations may include frequency distributions, comparisons of attributes (scatterplot, multiple frequency diagrams), box and whisker plots, etc. The goal is not to include all possible diagrams, but instead to select and highlight diagrams that provide insight about the dataset itself.\n",
    "#### Note that this section must describe the above (in paragraph form) and not just provide diagrams and statistics. Also, each figure included must have a figure caption (Figure number and textual description) that is referenced from the text (e.g., “Figure 2 shows a frequency diagram for ...”).\n"
   ]
  },
  {
   "cell_type": "markdown",
   "metadata": {},
   "source": []
  }
 ],
 "metadata": {
  "interpreter": {
   "hash": "d4d1e4263499bec80672ea0156c357c1ee493ec2b1c70f0acce89fc37c4a6abe"
  },
  "kernelspec": {
   "display_name": "Python 3.9.7 64-bit ('base': conda)",
   "language": "python",
   "name": "python3"
  },
  "language_info": {
   "codemirror_mode": {
    "name": "ipython",
    "version": 3
   },
   "file_extension": ".py",
   "mimetype": "text/x-python",
   "name": "python",
   "nbconvert_exporter": "python",
   "pygments_lexer": "ipython3",
   "version": "3.9.7"
  },
  "orig_nbformat": 4
 },
 "nbformat": 4,
 "nbformat_minor": 2
}
