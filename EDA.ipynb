{
 "cells": [
  {
   "cell_type": "markdown",
   "metadata": {},
   "source": [
    "# Galaxy Morphology EDA & Classification \n",
    "\n",
    "### The URL for where dataset was acquired can be found [here](https://www.inserturl.com)."
   ]
  },
  {
   "cell_type": "code",
   "execution_count": 1,
   "metadata": {},
   "outputs": [
    {
     "name": "stdout",
     "output_type": "stream",
     "text": [
      "[[93.8, 25.68, 91.84, 16.6, 89.84, 99.6, 1.84, 74.2, 3.0], [91.64, 25.104, 91.552, 15.88, 89.552, 98.88, 1.552, 72.76, 3.0], [60.0, 20.0, 96.0, 10.0, 95.0, 85.0, 7.0, 60.0, 1.0], [85.76, 23.536, 90.768, 13.92, 88.768, 96.92, 0.768, 68.84, 3.0], [48.12, 17.248, 97.872, 6.496, 96.248, 72.48, 8.248, 53.12, 0.0]]\n",
      "['\\ufeffsr', 'rr', 't', 'lm', 'bo', 'rem', 'sr', 'hr', 'sl']\n"
     ]
    }
   ],
   "source": [
    "from utils.mypytable import MyPyTable \n",
    "\n",
    "table = MyPyTable()\n",
    "file_name = 'SaYoPillow.csv'\n",
    "table.load_from_file('input_folder/' + file_name)\n",
    "\n",
    "print(table.data[0:5])\n",
    "print(table.column_names)\n"
   ]
  },
  {
   "cell_type": "markdown",
   "metadata": {},
   "source": [
    "## Class Distribution\n",
    "\n",
    "#### We are hoping to train our model on the class label for morphology classification which is a system used by astronomers to divide galaxies into groups based on their visual appearance.\n",
    "\n",
    "#### In order to ensure that we can fit a good model to the data, having a distribution of class labels that are not too skewed so as to be overly abundant or lacking in some versus others "
   ]
  },
  {
   "cell_type": "code",
   "execution_count": null,
   "metadata": {},
   "outputs": [],
   "source": []
  },
  {
   "cell_type": "markdown",
   "metadata": {},
   "source": [
    "#### From our initial EDA we see that our class distribution ......."
   ]
  },
  {
   "cell_type": "markdown",
   "metadata": {},
   "source": [
    "## A Closer Look: Features of Interest\n",
    "\n",
    "#### Like the distributions of class lables we also used the opportunity for EDA to look into whether or not there were any features within the dataset that have high or low correlations with other attributes/class labels so as to gain intuition for potential pruning strategies or attributes to eliminate to reduce overfitting"
   ]
  },
  {
   "cell_type": "code",
   "execution_count": null,
   "metadata": {},
   "outputs": [],
   "source": []
  },
  {
   "cell_type": "markdown",
   "metadata": {},
   "source": [
    "###"
   ]
  },
  {
   "cell_type": "code",
   "execution_count": null,
   "metadata": {},
   "outputs": [],
   "source": []
  },
  {
   "cell_type": "markdown",
   "metadata": {},
   "source": [
    "### Preliminary Classification"
   ]
  },
  {
   "cell_type": "code",
   "execution_count": 2,
   "metadata": {},
   "outputs": [],
   "source": [
    "cols_to_drop = []\n",
    "target_col = []"
   ]
  }
 ],
 "metadata": {
  "interpreter": {
   "hash": "d4d1e4263499bec80672ea0156c357c1ee493ec2b1c70f0acce89fc37c4a6abe"
  },
  "kernelspec": {
   "display_name": "Python 3.9.7 64-bit ('base': conda)",
   "language": "python",
   "name": "python3"
  },
  "language_info": {
   "codemirror_mode": {
    "name": "ipython",
    "version": 3
   },
   "file_extension": ".py",
   "mimetype": "text/x-python",
   "name": "python",
   "nbconvert_exporter": "python",
   "pygments_lexer": "ipython3",
   "version": "3.9.7"
  },
  "orig_nbformat": 4
 },
 "nbformat": 4,
 "nbformat_minor": 2
}
