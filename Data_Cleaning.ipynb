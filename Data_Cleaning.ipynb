{
 "cells": [
  {
   "cell_type": "code",
   "execution_count": 2,
   "metadata": {},
   "outputs": [
    {
     "data": {
      "text/plain": [
       "<utils.mypytable.MyPyTable at 0x7f44282b7940>"
      ]
     },
     "execution_count": 2,
     "metadata": {},
     "output_type": "execute_result"
    }
   ],
   "source": [
    "from utils.mypytable import MyPyTable \n",
    "import utils.plot_utils as plot_utils\n",
    "import importlib\n",
    "import utils.myclassifiers\n",
    "importlib.reload(utils.myclassifiers)\n",
    "from utils.myclassifiers import MyDecisionTreeClassifier\n",
    "from utils.myclassifiers import MyKNeighborsClassifier\n",
    "from utils.myclassifiers import MyDummyClassifier\n",
    "from utils.myclassifiers import MyNaiveBayesClassifier\n",
    "\n",
    "import numpy as np # Added import statement\n",
    "import utils.myevaluation\n",
    "importlib.reload(utils.myevaluation)\n",
    "import utils.myevaluation as myevaluation\n",
    "from itertools import chain\n",
    "import utils.myutils as utils\n",
    "importlib.reload(utils)\n",
    "importlib.reload(plot_utils)\n",
    "table = MyPyTable()\n",
    "file_name = 'Skyserver_SQL4_21_2022 12_41_18 AM.csv'\n",
    "table.load_from_file('input_folder/' + file_name)"
   ]
  },
  {
   "cell_type": "code",
   "execution_count": 10,
   "metadata": {},
   "outputs": [
    {
     "name": "stdout",
     "output_type": "stream",
     "text": [
      "zwarning values: [0.0, 4.0, 16.0, 20.0, 64.0, 128.0]\n",
      "zWarning counts: [19964, 9, 20, 1, 4, 2]\n",
      "[1113, 1491, 1936, 2575, 3320, 3387, 3778, 4710, 4950, 5129, 6709, 8001, 9710, 9868, 10027, 10754, 11221, 12218, 12685, 12830, 13131, 13183, 13438, 14085, 14245, 14665, 14910, 15606, 15730, 16165, 16388, 16471, 17324, 18428, 19176, 19680] 36\n",
      "20000\n",
      "19964\n"
     ]
    }
   ],
   "source": [
    "# Data Cleaning \n",
    "# Removing all zWarning that are not (0 - OK)\n",
    "values, counts = utils.get_frequencies(table.data, 14)\n",
    "print(\"zwarning values:\", values)\n",
    "print(\"zWarning counts:\", counts) # Removing only 36 instances\n",
    "\n",
    "def row_indexes_to_drop(table, col_idx):\n",
    "    row_indexes = []\n",
    "    row_indexes = [i for i in range(len(table)) if table[i][col_idx] != 0]\n",
    "\n",
    "    return row_indexes\n",
    "\n",
    "row_idxs = row_indexes_to_drop(table.data, 14)\n",
    "print(row_idxs, len(row_idxs))\n",
    "print(len(table.data))\n",
    "table.drop_rows(row_idxs)\n",
    "print(len(table.data))\n",
    "# Takes 34s to remove 36 instances"
   ]
  },
  {
   "cell_type": "code",
   "execution_count": 21,
   "metadata": {},
   "outputs": [
    {
     "name": "stdout",
     "output_type": "stream",
     "text": [
      "19948\n",
      "19948\n"
     ]
    }
   ],
   "source": [
    "# Removing all the unphysical fluxes\n",
    "def row_idx_flux(table, col_idxs):\n",
    "    row_indexes = []\n",
    "    \n",
    "    for i in range(len(col_idxs)):\n",
    "        for j in range(len(table)):\n",
    "            if i not in row_indexes:\n",
    "                if table[j][col_idxs[i]] >= (1*10**5) or table[j][col_idxs[i]] <= (-1*10**5):\n",
    "                    row_indexes.append(j)\n",
    "\n",
    "    return row_indexes\n",
    "\n",
    "col_idxs = list(range(17, 28 + 1)) # Plus to account for exclusivity (17 start of fluxes)\n",
    "\n",
    "row_flux =  row_idx_flux(table.data, col_idxs) # Identifies 18 rows with unphysical fluxes\n",
    "print(len(table.data))\n",
    "table.drop_rows(row_flux)\n",
    "print(len(table.data))\n",
    "# Takes 32s to remove 18 instances"
   ]
  },
  {
   "cell_type": "code",
   "execution_count": 20,
   "metadata": {},
   "outputs": [
    {
     "name": "stdout",
     "output_type": "stream",
     "text": [
      "attribute                   min           max            mid           avg       median\n",
      "--------------  ---------------  ------------  -------------  ------------  -----------\n",
      "p_el                 0               1              0.5          0.554646      0.604\n",
      "p_cw                 0               1              0.5          0.0685233     0.014\n",
      "p_acw                0               1              0.5          0.0754724     0.019\n",
      "p_edge               0               1              0.5          0.200611      0.129\n",
      "p_dk                 0               0.974          0.487        0.0701847     0.053\n",
      "p_mg                 0               0.957          0.4785       0.0304911     0\n",
      "ra                   0.00647288    359.853        179.93       202.561       189.056\n",
      "dec                 -3.74796        66.3173        31.2847       4.7126       -0.289632\n",
      "z                    0.0100696       0.397336       0.203703     0.105953      0.097698\n",
      "zWarning             0               0              0            0             0\n",
      "waveMin           3785.3          4713.03        4249.16      3809.91       3808.03\n",
      "plateSN2             9.43218        42.013         25.7226      18.4166       17.3877\n",
      "h_delta_flux       -63.9883      18181.9         9058.95         8.60155       3.70828\n",
      "h_gamma_flux       -84.9019       2109.83        1012.46        15.0727        6.74925\n",
      "oiii_4363_flux    -740.101        1881.22         570.562       -0.525626     -0.339672\n",
      "h_beta_flux        -82.7944       4438.13        2177.67        34.6049       13.4284\n",
      "oiii_4959_flux    -444.784        3139.76        1347.49        11.5505        3.53501\n",
      "oiii_5007_flux   -1683.45         9966.67        4141.61        37.041        10.196\n",
      "hei_5876_flux   -89534.8         23685.3       -32924.7         -2.01707       1.10896\n",
      "oi_6300_flux    -17162.3         12775.6        -2193.34         6.2502        3.51976\n",
      "h_alpha_flux     -8871.44        16727.4         3927.98       144.1          49.3212\n",
      "nii_6548_flux      -42.0561       1224.65         591.297       20.0073        9.20809\n",
      "sii_6717_flux   -11059.5          3374.49       -3842.53        25.5381       12.9262\n",
      "sii_6731_flux   -77439            1779.99      -37829.5         12.3778        9.24207\n"
     ]
    }
   ],
   "source": [
    "# Ensuring erroneous fluxes removed \n",
    "summary_table = table.compute_summary_statistics(['p_el', 'p_cw', 'p_acw', 'p_edge', 'p_dk', 'p_mg', 'ra', 'dec', 'z', 'zWarning', 'waveMin', 'plateSN2', 'h_delta_flux', 'h_gamma_flux', 'oiii_4363_flux', 'h_beta_flux', 'oiii_4959_flux', 'oiii_5007_flux', 'hei_5876_flux', 'oi_6300_flux', 'h_alpha_flux', 'nii_6548_flux', 'sii_6717_flux', 'sii_6731_flux'])\n",
    "summary_table.pretty_print()"
   ]
  },
  {
   "cell_type": "markdown",
   "metadata": {},
   "source": [
    "## Next Steps \n",
    "1. Remove particularly weak emission lines (need to talk to Dr. Aver about this one)\n",
    "1. Normalizaion with h_beta_flux "
   ]
  }
 ],
 "metadata": {
  "interpreter": {
   "hash": "d4d1e4263499bec80672ea0156c357c1ee493ec2b1c70f0acce89fc37c4a6abe"
  },
  "kernelspec": {
   "display_name": "Python 3.9.7 ('base')",
   "language": "python",
   "name": "python3"
  },
  "language_info": {
   "codemirror_mode": {
    "name": "ipython",
    "version": 3
   },
   "file_extension": ".py",
   "mimetype": "text/x-python",
   "name": "python",
   "nbconvert_exporter": "python",
   "pygments_lexer": "ipython3",
   "version": "3.9.7"
  },
  "orig_nbformat": 4
 },
 "nbformat": 4,
 "nbformat_minor": 2
}
