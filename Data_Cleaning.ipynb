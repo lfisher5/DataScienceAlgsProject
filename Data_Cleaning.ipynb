{
 "cells": [
  {
   "cell_type": "code",
   "execution_count": 1,
   "metadata": {},
   "outputs": [
    {
     "data": {
      "text/plain": [
       "<utils.mypytable.MyPyTable at 0x7f54b47ad040>"
      ]
     },
     "execution_count": 1,
     "metadata": {},
     "output_type": "execute_result"
    }
   ],
   "source": [
    "from utils.mypytable import MyPyTable \n",
    "import utils.plot_utils as plot_utils\n",
    "import importlib\n",
    "import utils.myclassifiers\n",
    "importlib.reload(utils.myclassifiers)\n",
    "from utils.myclassifiers import MyDecisionTreeClassifier\n",
    "from utils.myclassifiers import MyKNeighborsClassifier\n",
    "from utils.myclassifiers import MyDummyClassifier\n",
    "from utils.myclassifiers import MyNaiveBayesClassifier\n",
    "\n",
    "import numpy as np # Added import statement\n",
    "import utils.myevaluation\n",
    "importlib.reload(utils.myevaluation)\n",
    "import utils.myevaluation as myevaluation\n",
    "from itertools import chain\n",
    "import utils.myutils as utils\n",
    "importlib.reload(utils)\n",
    "importlib.reload(plot_utils)\n",
    "table = MyPyTable()\n",
    "file_name = 'Skyserver_SQL4_21_2022 12_41_18 AM.csv'\n",
    "table.load_from_file('input_folder/' + file_name)"
   ]
  },
  {
   "cell_type": "code",
   "execution_count": 2,
   "metadata": {},
   "outputs": [
    {
     "name": "stdout",
     "output_type": "stream",
     "text": [
      "20000\n",
      "5003\n"
     ]
    }
   ],
   "source": [
    "# Removing all the unphysical fluxes\n",
    "def row_idx_flux(table, col_idxs):\n",
    "    row_indexes = []\n",
    "    \n",
    "    for i in range(len(col_idxs)):\n",
    "        for j in range(len(table)):\n",
    "            if j not in row_indexes:\n",
    "                if (table[j][col_idxs[i]] > (1*10**5)) or (table[j][col_idxs[i]] < 0):\n",
    "                    row_indexes.append(j)\n",
    "\n",
    "    return row_indexes\n",
    "\n",
    "col_idxs = list(range(17, 28 + 1)) # Plus 1 to account for exclusivity (17 start of fluxes)\n",
    "\n",
    "row_flux =  row_idx_flux(table.data, col_idxs) # Identifies 18 rows with unphysical fluxes\n",
    "b_len = len(table.data)\n",
    "table.drop_rows(row_flux)\n",
    "a_len =len(table.data)\n",
    "print(\"Removed instances:\", b_len - a_len)"
   ]
  },
  {
   "cell_type": "code",
   "execution_count": 3,
   "metadata": {},
   "outputs": [
    {
     "name": "stdout",
     "output_type": "stream",
     "text": [
      "zwarning values: [0.0, 4.0, 16.0, 64.0]\n",
      "zWarning counts: [4987, 1, 13, 2]\n",
      "[401, 695, 911, 1240, 1771, 2600, 2791, 2902, 3175, 3322, 3412, 3634, 4181, 4204, 4414, 4935] 16\n",
      "5003\n",
      "4987\n"
     ]
    }
   ],
   "source": [
    "# Data Cleaning \n",
    "# Removing all zWarning that are not (0 - OK)\n",
    "values, counts = utils.get_frequencies(table.data, 14)\n",
    "print(\"zwarning values:\", values)\n",
    "print(\"zWarning counts:\", counts) # Removing only 36 instances\n",
    "\n",
    "def row_indexes_to_drop(table, col_idx):\n",
    "    row_indexes = []\n",
    "    row_indexes = [i for i in range(len(table)) if table[i][col_idx] != 0]\n",
    "\n",
    "    return row_indexes\n",
    "\n",
    "row_idxs = row_indexes_to_drop(table.data, 14)\n",
    "print(row_idxs, len(row_idxs))\n",
    "b_len = len(table.data)\n",
    "table.drop_rows(row_idxs)\n",
    "a_len = len(table.data)\n",
    "print(\"Removed instances:\", b_len - a_len)\n",
    "# Takes 34s to remove 36 instances"
   ]
  },
  {
   "cell_type": "code",
   "execution_count": 10,
   "metadata": {},
   "outputs": [],
   "source": [
    "# Normalizing the dataset \n",
    "# def normalization_h_beta(table, col_idxs):\n",
    "col_idxs = list(range(17, 28 + 1)) # Plus 1 to account for exclusivity (17 start of fluxes)\n",
    "\n",
    "for i in range(len(col_idxs)):\n",
    "    for j in range(len(table.data)):\n",
    "        table.data[j][col_idxs[i]] = table.data[j][col_idxs[i]] / table.data[j][col_idxs[3]] # 3 indicates index of h_beta_flux in col_idxs"
   ]
  },
  {
   "cell_type": "code",
   "execution_count": 11,
   "metadata": {},
   "outputs": [
    {
     "name": "stdout",
     "output_type": "stream",
     "text": [
      "attribute                 min           max          mid           avg        median\n",
      "--------------  -------------  ------------  -----------  ------------  ------------\n",
      "p_el               0               1            0.5          0.403618      0.422\n",
      "p_cw               0               1            0.5          0.109711      0.029\n",
      "p_acw              0               1            0.5          0.114025      0.033\n",
      "p_edge             0               1            0.5          0.259218      0.2\n",
      "p_dk               0               0.857        0.4285       0.080292      0.058\n",
      "p_mg               0               0.926        0.463        0.0330559     0\n",
      "ra                 0.0421753     359.853      179.947      200.028       187.864\n",
      "dec               -3.74089        66.1556      31.2074       5.3555       -0.264008\n",
      "z                  0.0100996       0.345784     0.177942     0.0870138     0.0840691\n",
      "zWarning           0               0            0            0             0\n",
      "waveMin         3785.3          4713.03      4249.16      3809.79       3807.15\n",
      "plateSN2           9.43218        42.013       25.7226      19.0655       17.866\n",
      "h_delta_flux       0             793.957      396.979        0.423454      0.230795\n",
      "h_gamma_flux       0              19.7019       9.85097      0.453584      0.429469\n",
      "oiii_4363_flux     0               8.44191      4.22095      0.0837537     0.042339\n",
      "h_beta_flux        1               1            1            1             1\n",
      "oiii_4959_flux     0            3139.76      1569.88        33.4018        7.91662\n",
      "oiii_5007_flux     0.00200574   9966.67      4983.33       100.137        20.5317\n",
      "hei_5876_flux      0            1772.3        886.152       10.3308        5.32773\n",
      "oi_6300_flux       0             795.932      397.966       12.4544        7.19069\n",
      "h_alpha_flux       0           16212.5       8106.24       338.76        195.092\n",
      "nii_6548_flux      0            1224.65       612.326       42.8722       23.9233\n",
      "sii_6717_flux      0            1323.39       661.695       58.7773       36.907\n",
      "sii_6731_flux      0            1779.99       889.993       44.5428       26.4843\n"
     ]
    }
   ],
   "source": [
    "# Ensuring erroneous fluxes removed \n",
    "summary_table = table.compute_summary_statistics(['p_el', 'p_cw', 'p_acw', 'p_edge', 'p_dk', 'p_mg', 'ra', 'dec', 'z', 'zWarning', 'waveMin', 'plateSN2', 'h_delta_flux', 'h_gamma_flux', 'oiii_4363_flux', 'h_beta_flux', 'oiii_4959_flux', 'oiii_5007_flux', 'hei_5876_flux', 'oi_6300_flux', 'h_alpha_flux', 'nii_6548_flux', 'sii_6717_flux', 'sii_6731_flux'])\n",
    "summary_table.pretty_print()"
   ]
  },
  {
   "cell_type": "markdown",
   "metadata": {},
   "source": [
    "## Next Steps \n",
    "1. Remove particularly weak emission lines (need to talk to Dr. Aver about this one)\n",
    "1. Normalizaion with h_beta_flux "
   ]
  }
 ],
 "metadata": {
  "interpreter": {
   "hash": "d4d1e4263499bec80672ea0156c357c1ee493ec2b1c70f0acce89fc37c4a6abe"
  },
  "kernelspec": {
   "display_name": "Python 3.9.7 ('base')",
   "language": "python",
   "name": "python3"
  },
  "language_info": {
   "codemirror_mode": {
    "name": "ipython",
    "version": 3
   },
   "file_extension": ".py",
   "mimetype": "text/x-python",
   "name": "python",
   "nbconvert_exporter": "python",
   "pygments_lexer": "ipython3",
   "version": "3.9.7"
  },
  "orig_nbformat": 4
 },
 "nbformat": 4,
 "nbformat_minor": 2
}
