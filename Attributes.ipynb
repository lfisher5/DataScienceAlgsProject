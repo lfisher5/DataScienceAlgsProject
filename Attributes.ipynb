{
 "cells": [
  {
   "cell_type": "markdown",
   "metadata": {},
   "source": [
    "## Attribute Values \n",
    "The following provides the a list of the attributes and their significance \n",
    "* specObjID (int): Spectrum object ID (unique identifier)\n",
    "* plate (int): Plate number\n",
    "* mjd (int): MJD of observation\n",
    "* fiberID (int): Fiber ID\n",
    "* class (str): Type of object\n",
    "* p_el (float): Fraction of votes for elliptical galaxy\n",
    "* p_cw (float): Fraction of votes for clockwise spiral galaxy\n",
    "* p_acw (float): Fraction of votes for anticlockwise spiral galaxy\n",
    "* p_edge (float): Fraction of votes for edge-on disk\n",
    "* p_dk (float): Fraction of votes for don't know\n",
    "* p_mg (float): Fraction of votes for merger\n",
    "* ra (deg): Right ascension\n",
    "* dec (deg): Declination\n",
    "* z (float): Redshift of object \n",
    "* zWarning (int): Warnings for potential errors \n",
    "    * 0 - OK: no warnings \n",
    "    * 1 - SKY: sky fiber\n",
    "    * 2 - LITTLE_COVERAGE: too little wavelength coverage (WCOVERAGE < 0.18)\n",
    "    * 4 - SMALL_DELTA_CHI2: chi-squared of best fit is too close to that of second best (< 0.01 in reduced chi-sqaured)\n",
    "    * 8 - NEGATIVE_MODEL: synthetic spectrum is negative (only set for stars and QSOs)\n",
    "    * 16 - MANY_OUTLIERS: fraction of points more than 5 sigma away from best model is too large (> 0.05)\n",
    "    * 32 - Z_FITLIMIT: chi-squared minimum at edge of the redshift fitting range (Z_ERR set to -1)\n",
    "    * 64 - NEGATIVE_EMISSION: a QSO line exhibits negative emission, triggered only in QSO spectra, if C_IV, C_III, Mg_II, H_beta, or H_alpha has LINEAREA + 3 * LINEAREA_ERR < 0\n",
    "    * 128 - UNPLUGGED: the fiber was unplugged, so no spectrum obtained\n",
    "* waveMin (float): Minimum observed wavelength in angstroms \n",
    "* plateSN2 (float): Overall signal-to-noise-squared measure for plate (only set for SDSS spectrograph)\n",
    "* h_delta_flux (float): Flux from Gaussian fit to continuum subtracted data for $H$ at $\\lambda = 4101.7 \\AA$\n",
    "* h_gamma_flux (float): Flux from Gaussian fit to continuum subtracted data for $H$ at $\\lambda = 4340.5 \\AA$\n",
    "* oiii_4363_flux (float):  Flux from Gaussian fit to continuum subtracted data for $O^{+++}$ at $\\lambda = 4363 \\AA$\n",
    "* h_beta_flux (float): Flux from Gaussian fit to continuum subtracted data for $H$ at $\\lambda = 4861.4 \\AA$\n",
    "* oiii_4959_flux (float): Flux from Gaussian fit to continuum subtracted data for $O^{+++}$ at $\\lambda = 4959 \\AA$\n",
    "* oiii_5007_flux (float): Flux from Gaussian fit to continuum subtracted data for $O^{+++}$ at $\\lambda = 5007 \\AA$\n",
    "* hei_5876_flux (float): Flux from Gaussian fit to continuum subtracted data for $He^{+}$ at $\\lambda = 5876 \\AA$\n",
    "* oi_6300_flux (float): Flux from Gaussian fit to continuum subtracted data for $O^{+}$ at $\\lambda = 6300 \\AA$\n",
    "* h_alpha_flux (float): Flux from Gaussian fit to continuum subtracted data for $H$ at $\\lambda = 6563 \\AA$\n",
    "* nii_6548_flux (float): Flux from Gaussian fit to continuum subtracted data for $N^{++}$ at $\\lambda = 6584 \\AA$\n",
    "* sii_6717_flux (float): Flux from Gaussian fit to continuum subtracted data for $S^{++}$ at $\\lambda = 6717 \\AA$\n",
    "* sii_6731_flux (float): Flux from Gaussian fit to continuum subtracted data for $S^{++}$ at $\\lambda = 6731 \\AA$\n",
    "\n",
    "\n",
    "\n",
    "\n"
   ]
  }
 ],
 "metadata": {
  "interpreter": {
   "hash": "d4d1e4263499bec80672ea0156c357c1ee493ec2b1c70f0acce89fc37c4a6abe"
  },
  "kernelspec": {
   "display_name": "Python 3.9.7 ('base')",
   "language": "python",
   "name": "python3"
  },
  "language_info": {
   "name": "python",
   "version": "3.9.7"
  },
  "orig_nbformat": 4
 },
 "nbformat": 4,
 "nbformat_minor": 2
}
