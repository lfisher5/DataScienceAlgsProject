{
 "cells": [
  {
   "cell_type": "code",
   "execution_count": 7,
   "metadata": {},
   "outputs": [
    {
     "data": {
      "text/plain": [
       "<module 'utils.plot_utils' from '/home/Project/V2/DataScienceAlgsProject/utils/plot_utils.py'>"
      ]
     },
     "execution_count": 7,
     "metadata": {},
     "output_type": "execute_result"
    }
   ],
   "source": [
    "from utils.mypytable import MyPyTable \n",
    "import utils.plot_utils as plot_utils\n",
    "import importlib\n",
    "import utils.myclassifiers\n",
    "importlib.reload(utils.myclassifiers)\n",
    "from utils.myclassifiers import MyDecisionTreeClassifier\n",
    "from utils.myclassifiers import MyKNeighborsClassifier\n",
    "from utils.myclassifiers import MyDummyClassifier\n",
    "from utils.myclassifiers import MyNaiveBayesClassifier\n",
    "from utils.myrandomforestclassifier import MyRandomForestClassifier\n",
    "import random\n",
    "\n",
    "import utils.myevaluation\n",
    "importlib.reload(utils.myevaluation)\n",
    "import utils.myevaluation as myevaluation\n",
    "from itertools import chain\n",
    "import utils.myutils as utils\n",
    "importlib.reload(utils)\n",
    "importlib.reload(plot_utils)\n"
   ]
  },
  {
   "cell_type": "code",
   "execution_count": 8,
   "metadata": {},
   "outputs": [
    {
     "data": {
      "text/plain": [
       "<utils.mypytable.MyPyTable at 0x7fbe90e69c10>"
      ]
     },
     "execution_count": 8,
     "metadata": {},
     "output_type": "execute_result"
    }
   ],
   "source": [
    "cont_table = MyPyTable()\n",
    "disc_table = MyPyTable()\n",
    "\n",
    "cont_table.load_from_file('data_continuous.csv')\n",
    "disc_table.load_from_file('data_discretized.csv')"
   ]
  },
  {
   "cell_type": "code",
   "execution_count": 9,
   "metadata": {},
   "outputs": [],
   "source": [
    "cont_target_vals = cont_table.get_column('morph')\n",
    "cont_table.drop_cols(['morph'])\n",
    "\n",
    "disc_target_vals = disc_table.get_column('morph')\n",
    "disc_table.drop_cols(['morph'])"
   ]
  },
  {
   "cell_type": "code",
   "execution_count": 10,
   "metadata": {},
   "outputs": [
    {
     "name": "stdout",
     "output_type": "stream",
     "text": [
      "----------\n",
      "Classifier: dummy\n",
      "----------\n",
      "----------\n",
      "Accuracy: 0.5103522452272116\n",
      "----------\n",
      "Error Rate: 0.48964775477278843\n",
      "----------\n",
      "Confusion Matrix: [[0, 1821], [0, 1898]]\n",
      "----------\n",
      "Classifier: dec_tree\n",
      "----------\n",
      "----------\n",
      "Accuracy: 0.5579456843237429\n",
      "----------\n",
      "Error Rate: 0.4420543156762571\n",
      "----------\n",
      "Confusion Matrix: [[869, 952], [692, 1206]]\n",
      "----------\n",
      "Classifier: forest\n",
      "----------\n",
      "----------\n",
      "Accuracy: 0.551492336649637\n",
      "----------\n",
      "Error Rate: 0.44850766335036296\n",
      "----------\n",
      "Confusion Matrix: [[784, 1037], [631, 1267]]\n"
     ]
    }
   ],
   "source": [
    "# Discretized\n",
    "X_train_idx_folds, X_test_idx_folds = myevaluation.stratified_kfold_cross_validation(\n",
    "    disc_table.data, disc_target_vals, n_splits=7)\n",
    "\n",
    "X_train = [[disc_table.data[idx] for idx in fold] for fold in X_train_idx_folds]\n",
    "y_train = [[disc_target_vals[idx] for idx in fold]\n",
    "            for fold in X_train_idx_folds]\n",
    "X_test = [[disc_table.data[idx] for idx in fold] for fold in X_test_idx_folds]\n",
    "y_test = [[disc_target_vals[idx] for idx in fold]\n",
    "            for fold in X_test_idx_folds]\n",
    "\n",
    "knn = MyKNeighborsClassifier(3)\n",
    "dummy = MyDummyClassifier()\n",
    "# bayes = MyNaiveBayesClassifier()\n",
    "dec_tree = MyDecisionTreeClassifier()\n",
    "forest = MyRandomForestClassifier()\n",
    "\n",
    "classifier_names = ['dummy', 'dec_tree', 'forest']\n",
    "models = [dummy, dec_tree, forest]\n",
    "preds = [[] for _ in models]\n",
    "\n",
    "forest.F = 3\n",
    "forest.M = 50\n",
    "forest.N = 21\n",
    "\n",
    "for i in range(len(X_train)):\n",
    "    for j in range(len(models)):\n",
    "        models[j].fit(X_train[i], y_train[i])\n",
    "        preds[j] += models[j].predict(X_test[i])\n",
    "\n",
    "y_test = list(chain.from_iterable(y_test))\n",
    "\n",
    "for i in range(len(preds)):\n",
    "    myevaluation.cross_val_stats(classifier_names[i], y_test, preds[i])"
   ]
  },
  {
   "cell_type": "code",
   "execution_count": 11,
   "metadata": {},
   "outputs": [
    {
     "name": "stdout",
     "output_type": "stream",
     "text": [
      "----------\n",
      "Classifier: dummy\n",
      "----------\n",
      "----------\n",
      "Accuracy: 0.526129108536297\n",
      "----------\n",
      "Error Rate: 0.473870891463703\n",
      "----------\n",
      "Confusion Matrix: [[0, 2004], [0, 2225]]\n",
      "----------\n",
      "Classifier: bayes\n",
      "----------\n",
      "----------\n",
      "Accuracy: 0.5568692362260582\n",
      "----------\n",
      "Error Rate: 0.4431307637739418\n",
      "----------\n",
      "Confusion Matrix: [[1318, 686], [1188, 1037]]\n"
     ]
    }
   ],
   "source": [
    "# Continuous \n",
    "X_train_idx_folds, X_test_idx_folds = myevaluation.stratified_kfold_cross_validation(\n",
    "    cont_table.data, cont_target_vals, n_splits=7)\n",
    "\n",
    "X_train = [[cont_table.data[idx] for idx in fold] for fold in X_train_idx_folds]\n",
    "y_train = [[cont_target_vals[idx] for idx in fold]\n",
    "            for fold in X_train_idx_folds]\n",
    "X_test = [[cont_table.data[idx] for idx in fold] for fold in X_test_idx_folds]\n",
    "y_test = [[cont_target_vals[idx] for idx in fold]\n",
    "            for fold in X_test_idx_folds]\n",
    "\n",
    "# knn = MyKNeighborsClassifier(3)\n",
    "dummy = MyDummyClassifier()\n",
    "bayes = MyNaiveBayesClassifier()\n",
    "# dec_tree = MyDecisionTreeClassifier()\n",
    "\n",
    "classifier_names = ['dummy', 'bayes']\n",
    "models = [dummy, bayes]\n",
    "preds = [[] for _ in models]\n",
    "\n",
    "for i in range(len(X_train)):\n",
    "    # print('i', i)\n",
    "    for j in range(len(models)):\n",
    "        # print('j', j)\n",
    "        models[j].fit(X_train[i], y_train[i])\n",
    "        preds[j] += models[j].predict(X_test[i])\n",
    "\n",
    "y_test = list(chain.from_iterable(y_test))\n",
    "\n",
    "for i in range(len(preds)):\n",
    "    if classifier_names[i] == 'bayes':\n",
    "        preds[i] = bayes.convert_idxs_to_class_labels(y_test, preds[i])\n",
    "        myevaluation.cross_val_stats(classifier_names[i], y_test, preds[i])\n",
    "    else:\n",
    "        myevaluation.cross_val_stats(classifier_names[i], y_test, preds[i])"
   ]
  },
  {
   "cell_type": "code",
   "execution_count": 12,
   "metadata": {},
   "outputs": [
    {
     "name": "stdout",
     "output_type": "stream",
     "text": [
      "----------\n",
      "Classifier: dummy\n",
      "----------\n",
      "----------\n",
      "Accuracy: 0.5322338830584707\n",
      "----------\n",
      "Error Rate: 0.46776611694152925\n",
      "----------\n",
      "Confusion Matrix: [[0, 936], [0, 1065]]\n",
      "----------\n",
      "Classifier: knn\n",
      "----------\n",
      "----------\n",
      "Accuracy: 0.6721639180409795\n",
      "----------\n",
      "Error Rate: 0.3278360819590205\n",
      "----------\n",
      "Confusion Matrix: [[535, 401], [255, 810]]\n"
     ]
    }
   ],
   "source": [
    "# Continuous kNN down selection \n",
    "utils.randomize_in_place(cont_table.data, cont_target_vals)\n",
    "cont_table_copy = cont_table.data.copy()\n",
    "cont_table_copy = cont_table_copy[:2001]\n",
    "X_train_idx_folds, X_test_idx_folds = myevaluation.stratified_kfold_cross_validation(\n",
    "    cont_table_copy, cont_target_vals, n_splits=7)\n",
    "\n",
    "X_train = [[cont_table_copy[idx] for idx in fold] for fold in X_train_idx_folds]\n",
    "y_train = [[cont_target_vals[idx] for idx in fold]\n",
    "            for fold in X_train_idx_folds]\n",
    "X_test = [[cont_table_copy[idx] for idx in fold] for fold in X_test_idx_folds]\n",
    "y_test = [[cont_target_vals[idx] for idx in fold]\n",
    "            for fold in X_test_idx_folds]\n",
    "\n",
    "knn = MyKNeighborsClassifier(5)\n",
    "# dummy = MyDummyClassifier()\n",
    "# bayes = MyNaiveBayesClassifier()\n",
    "# dec_tree = MyDecisionTreeClassifier()\n",
    "\n",
    "classifier_names = ['dummy', 'knn']\n",
    "models = [dummy, knn]\n",
    "preds = [[] for _ in models]\n",
    "\n",
    "for i in range(len(X_train)):\n",
    "    # print('i', i)\n",
    "    for j in range(len(models)):\n",
    "        # print('j', j)\n",
    "        models[j].fit(X_train[i], y_train[i])\n",
    "        preds[j] += models[j].predict(X_test[i])\n",
    "\n",
    "y_test = list(chain.from_iterable(y_test))\n",
    "\n",
    "for i in range(len(preds)):\n",
    "    myevaluation.cross_val_stats(classifier_names[i], y_test, preds[i])"
   ]
  }
 ],
 "metadata": {
  "interpreter": {
   "hash": "d4d1e4263499bec80672ea0156c357c1ee493ec2b1c70f0acce89fc37c4a6abe"
  },
  "kernelspec": {
   "display_name": "Python 3.9.7 64-bit ('base': conda)",
   "language": "python",
   "name": "python3"
  },
  "language_info": {
   "codemirror_mode": {
    "name": "ipython",
    "version": 3
   },
   "file_extension": ".py",
   "mimetype": "text/x-python",
   "name": "python",
   "nbconvert_exporter": "python",
   "pygments_lexer": "ipython3",
   "version": "3.9.7"
  },
  "orig_nbformat": 4
 },
 "nbformat": 4,
 "nbformat_minor": 2
}
