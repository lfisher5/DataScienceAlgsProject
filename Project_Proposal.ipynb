{
 "cells": [
  {
   "cell_type": "markdown",
   "metadata": {},
   "source": [
    "# Data Science Project\n",
    "\n",
    "### By: Lauren Fisher and Logan Bayer"
   ]
  },
  {
   "cell_type": "markdown",
   "metadata": {},
   "source": [
    "## Names of team members and name of project\n",
    "\n",
    "\n"
   ]
  },
  {
   "cell_type": "markdown",
   "metadata": {},
   "source": [
    "## Dataset description\n",
    "### Its source, format, and its contents\n",
    "### Include a brief description of the attributes and what you will use as class information (i.e., what attribute(s) you will try to predict).\n",
    "Based on one's physiological changes during sleep, the SaYoPillow predicts the stress one might endure the next day. Some of the notable attributes of the dataset include:\n",
    "* Snoring Range\n",
    "* Respiration Rate\n",
    "* Body Temperature \n",
    "* Limb Movement Rate\n",
    "* Blood Oxygen Levels \n",
    "* Eye Movement \n",
    "* Number of Hours of Sleep\n",
    "* Heart Rate and Stress Levels: 0 - low/normal, 1 - medium low, 2 - medium, 3 - medium high, 4 - high\n",
    "All the data has been acquired from an intensive literature review. It is important to note that the dataset does not include human subjects. At the moment, I do not know what a good classification attribute would be.  "
   ]
  },
  {
   "cell_type": "markdown",
   "metadata": {},
   "source": [
    "## Implementation/technical merit\n",
    "## Anticipated challenges in pre-processing and/or classification\n",
    "### If the number of attributes is large, how will you explore feature selection techniques to pare down the attributes?\n",
    "The most difficult aspect of the dataset appears to be determining a classification label from the literature. Unless, Heart Rate and Stress could be used as a classification attribute. Since the dataset has been published, there is hop that the pre-processing will be rather starightforward. However, there may be some noise in the data that must be ironed out. "
   ]
  },
  {
   "cell_type": "markdown",
   "metadata": {},
   "source": [
    "## Potential impact of the results\n",
    "### Why are these results useful?\n",
    "### Who are stakeholders (users/groups that are impacted by the outcome of the project) interested in these results?\n",
    "Uses: \n",
    "* Predict effectiveness of sleep\n",
    "* Alter habits to create more usefull sleep\n",
    "* Difficulty collecting data on humans \n",
    "* Useful for the masses \n",
    "\n",
    "**Skepticism**  \n",
    "96% prediction accuracy seems a bit high (overfitting?)"
   ]
  }
 ],
 "metadata": {
  "interpreter": {
   "hash": "31f2aee4e71d21fbe5cf8b01ff0e069b9275f58929596ceb00d14d90e3e16cd6"
  },
  "kernelspec": {
   "display_name": "Python 3.8.9 64-bit",
   "language": "python",
   "name": "python3"
  },
  "language_info": {
   "name": "python",
   "version": "3.9.2"
  },
  "orig_nbformat": 4
 },
 "nbformat": 4,
 "nbformat_minor": 2
}
