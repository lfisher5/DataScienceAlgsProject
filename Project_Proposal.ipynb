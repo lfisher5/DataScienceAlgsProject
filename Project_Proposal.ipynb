{
 "cells": [
  {
   "cell_type": "markdown",
   "metadata": {},
   "source": [
    "# Data Science Project Proposal\n",
    "\n",
    "### By: Lauren Fisher and Logan Bayer"
   ]
  },
  {
   "cell_type": "markdown",
   "metadata": {},
   "source": [
    "## Dataset description\n",
    "Based on one's physiological changes during sleep, the SaYoPillow predicts the stress one might endure the next day. Some of the notable attributes of the csv dataset include:\n",
    "* Snoring Range\n",
    "* Respiration Rate\n",
    "* Body Temperature \n",
    "* Limb Movement Rate\n",
    "* Blood Oxygen Levels \n",
    "* Eye Movement \n",
    "* Number of Hours of Sleep\n",
    "* Heart Rate and Stress Levels: 0 - low/normal, 1 - medium low, 2 - medium, 3 - medium high, 4 - high\n",
    "\n",
    "\n",
    "All the data has been acquired from an intensive literature review. It is important to note that the dataset does not include human subjects. At the moment, the attribute Heart Rate and Stress Levels appears to be the best classification option. The URL for the dataset can be found [here](https://www.kaggle.com/datasets/laavanya/human-stress-detection-in-and-through-sleep)."
   ]
  },
  {
   "cell_type": "markdown",
   "metadata": {},
   "source": [
    "## Implementation/technical merit\n",
    " Since the dataset has been published, there is hop that the pre-processing will be rather starightforward. However, there may be some noise in the data that must be ironed out. Since the subjects of the dataset are not human, the dataset requires learning to become a domain novice, at the least. Further, reading the papers listed for the dataset may provide insight into why such attributes as those listed above where chosen. The papers may also grant creedance to the 96% accuracy rating boasted in the short Kaggle abstract. In all honesty, we are quite skeptical that such an accuracy is obtainable. "
   ]
  },
  {
   "cell_type": "markdown",
   "metadata": {},
   "source": [
    "## Potential impact of the results\n",
    "Due to the lack of human subjects, the results from our classifiers cannot infer anything about human behavior. Also, the collection of data seems rather intrusive which explains the lack of human subjects in the dataset. However, our results may introduce a new perspective on the SaYoPillow dataset, allowing research to investigate alterior paths. Once such paths are explored, one may be able to experiment with sleep pattern alterations to ensure the least stressful day. "
   ]
  }
 ],
 "metadata": {
  "interpreter": {
   "hash": "31f2aee4e71d21fbe5cf8b01ff0e069b9275f58929596ceb00d14d90e3e16cd6"
  },
  "kernelspec": {
   "display_name": "Python 3.8.9 64-bit",
   "language": "python",
   "name": "python3"
  },
  "language_info": {
   "name": "python",
   "version": "3.9.7"
  },
  "orig_nbformat": 4
 },
 "nbformat": 4,
 "nbformat_minor": 2
}
